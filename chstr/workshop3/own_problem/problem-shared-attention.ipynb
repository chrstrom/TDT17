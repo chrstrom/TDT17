{
 "cells": [
  {
   "cell_type": "markdown",
   "metadata": {},
   "source": [
    "# TDT17 2022-P3-T2-ST1 task\n",
    "\n",
    "Shared attention is a concept used in the [MulT architecture](https://openaccess.thecvf.com/content/CVPR2022/papers/Bhattacharjee_MulT_An_End-to-End_Multitask_Learning_Transformer_CVPR_2022_paper.pdf) in order for a multi-task network to learn between-task dependencies. In MulT, all tasks share the same encoders, while deploying task-specific decoders. The shared attention blocks are introduced in each decoder block, and this task will have you calculate the outputs for a shared attention block on an input that has been simplified to suit the time constraint of the TDT17 tasks format. The goal of this task is not to interpret how the output is affected by a specific inputs (especially since the linear layers are stochastically generated here), but instead to gain an insight in what separates shared attention from self-attetion. A single task *t* is considered, with an additional reference task *r*. The details of what these tasks are is not important.\n",
    "\n",
    "## Given:\n",
    "* The shared attention block from MulT  \n",
    "    ![shared-attention](shared-attention.png)\n",
    "* A skip connection $x_{s}$ from the shared encoder\n",
    "* The upsampled output $x^t$ from the previous decoder stage\n",
    "* The upsampled output $x^r$ from the previous decoder stage of some \"reference\" task\n",
    "* M = 6 attention heads\n",
    "* Helper functions to generate matrices and vectors\n",
    "\n",
    "## Find:\n",
    "* The dimensions for the projections in each attention head\n",
    "* The dimensions for the projections of the multi-head attention output\n",
    "* The outputs $y^t$ and $y^r$ of the shared attention block\n",
    "* Answer: Which modifications have been made vs. \"standard\" self-attention?\n",
    "* Answer: Where does the shared attention block utilize information from other tasks?\n",
    "\n",
    "Note: Wherever a learnable parameter is used in MulT, it is fine simply replacing it with something randomly generated :)"
   ]
  },
  {
   "cell_type": "markdown",
   "metadata": {},
   "source": [
    "# Helper functions"
   ]
  },
  {
   "cell_type": "code",
   "execution_count": 1,
   "metadata": {},
   "outputs": [],
   "source": [
    "import numpy as np\n",
    "import matplotlib.pyplot as plt\n",
    "\n",
    "def softmax(x, axis=0):\n",
    "    return np.exp(x) / np.sum(np.exp(x), axis=axis)\n",
    "\n",
    "def normalize(x):\n",
    "    return (x - x.mean()) / x.std() \n",
    "\n",
    "def linear(n, m):\n",
    "    \"\"\"\n",
    "    Generate an nxm array of normally distributed values\n",
    "    \"\"\"\n",
    "    return np.random.normal(0, 1, n * m).reshape((n, m))\n",
    "\n",
    "def x(n):\n",
    "    \"\"\"\n",
    "    Generate a nx1 vector of normally distributed values.\n",
    "    \"\"\"\n",
    "    return np.random.normal(0, 1, n).reshape((n, 1))\n",
    "\n",
    "\n",
    "def draw(data, title: str = \"\") -> None:\n",
    "        \"\"\"Display a visualization of the matrix values\n",
    "\n",
    "        See: https://stackoverflow.com/questions/40887753/display-matrix-values-and-colormap\n",
    "\n",
    "        Assumes data on the form nx1 where n is a perfect square number\n",
    "        \"\"\"\n",
    "        fig, ax = plt.subplots()\n",
    "        \n",
    "        n = int(np.sqrt(data.shape[0]))\n",
    "        data = data.reshape((n, n))\n",
    "\n",
    "        ax.matshow(data, cmap=plt.cm.Blues)\n",
    "        ax.set_title(title)\n",
    "\n",
    "        for col, row in np.ndindex(data.shape):\n",
    "            ax.text(col, row, f\"{data[row, col]:.2f}\", va='center', ha='center')\n"
   ]
  },
  {
   "cell_type": "markdown",
   "metadata": {},
   "source": [
    "# Given variables"
   ]
  },
  {
   "cell_type": "code",
   "execution_count": 2,
   "metadata": {},
   "outputs": [
    {
     "data": {
      "image/png": "[encoded data removed]",
      "text/plain": [
       "<Figure size 432x288 with 1 Axes>"
      ]
     },
     "metadata": {
      "needs_background": "light"
     },
     "output_type": "display_data"
    },
    {
     "data": {
      "image/png": "[encoded data removed]",
      "text/plain": [
       "<Figure size 432x288 with 1 Axes>"
      ]
     },
     "metadata": {
      "needs_background": "light"
     },
     "output_type": "display_data"
    }
   ],
   "source": [
    "M = 6\n",
    "\n",
    "H = 4\n",
    "W = 4\n",
    "\n",
    "ndim = H * W\n",
    "\n",
    "x_t = x(ndim)\n",
    "x_s = x(ndim)\n",
    "x_r = x(ndim)\n",
    "\n",
    "Cr = 1 # Number of channels\n",
    "\n",
    "draw(x_t, \"x_t\")\n",
    "draw(x_r, \"x_r\")"
   ]
  },
  {
   "cell_type": "markdown",
   "metadata": {},
   "source": [
    "# Your solution"
   ]
  },
  {
   "cell_type": "code",
   "execution_count": 3,
   "metadata": {},
   "outputs": [],
   "source": [
    "# Hint: The most straight-forward solution will likely be to use a loop over\n",
    "# range(M) and calculate the single-head shared attention. These can be\n",
    "# concatenated and projected to obtain the linear outputs. Lastly add the skip\n",
    "# connection from the input to the output.\n",
    "#\n",
    "# Use normalize() to normalize the inputs, linear(m, n) to generate the linear\n",
    "# layers, and draw() to visualize your output in the end."
   ]
  },
  {
   "cell_type": "markdown",
   "metadata": {},
   "source": [
    "# Questions\n",
    "1. Which modifications have been made vs. \"standard\" self-attention?\n",
    "\n",
    "TODO  \n",
    "\n",
    "2. Where does the shared attention block utilize information from other tasks?\n",
    "\n",
    "TODO  "
   ]
  }
 ],
 "metadata": {
  "kernelspec": {
   "display_name": "Python 3 (ipykernel)",
   "language": "python",
   "name": "python3"
  },
  "language_info": {
   "codemirror_mode": {
    "name": "ipython",
    "version": 3
   },
   "file_extension": ".py",
   "mimetype": "text/x-python",
   "name": "python",
   "nbconvert_exporter": "python",
   "pygments_lexer": "ipython3",
   "version": "3.9.5"
  },
  "vscode": {
   "interpreter": {
    "hash": "77efda19133223beae4d8202f64c0ed7ef77e02bd33099328534a5c00204ca3d"
   }
  }
 },
 "nbformat": 4,
 "nbformat_minor": 2
}
