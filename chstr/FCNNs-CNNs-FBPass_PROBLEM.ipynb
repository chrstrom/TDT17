{
 "cells": [
  {
   "cell_type": "markdown",
   "metadata": {},
   "source": [
    "# Problem description\n",
    "The following problem is proposed: \n",
    "\n",
    "6x6 images are generated as one of two distinct classes.\n",
    "\n",
    "0. Class 0 represents noise as i.i.d. ~ Uniform(low, high), where low and high are parameters that determine the noise level.\n",
    "1. Class 1 takes class 0 and inserts a 3x3 square by setting each element in a 3x3 grid to a predefined value, starting from a random spot in the image.\n",
    "\n",
    "The problem then becomes to create a binary classification network that can separate these two. \n",
    "\n",
    "# Given\n",
    "1. The network architecture  \n",
    "\n",
    "| **Layer**   | **Input dim** | **Output dim** | **Other**                                                  |\n",
    "|-------------|---------------|----------------|------------------------------------------------------------|\n",
    "| Input       | 6x6           | 6x6            | Class 0 or 1                                               |\n",
    "| 2D convolve | 6x6           | 4x4            | Kernel: 3x3 with stride 1 and no padding. Activation: ReLU |\n",
    "| Max pool    | 4x4           | 2x2            | Kernel: 2x2 with stride 2 and no padding.                  |\n",
    "| Flatten     | 2x2           | 4x1            |                                                            |\n",
    "| FCNN        | 4x1           | 1              | Activation: Sigmoid                                        |\n",
    "\n",
    "\n",
    "2. An input matrix *X* and a label *y*, where *y* = 0 when *X* is all uniform and *y* = 1 when *X* contains a square.\n",
    "\n",
    "3. The helper classes Matrix2D and Network\n",
    "\n",
    "4. An initialized Network object and example data on the Matrix2D format\n",
    "\n",
    "5. Equations spread throughout with notation as used in the TDT17 lecture slides\n",
    "\n",
    "# Find\n",
    "1. The intermediate values in both the CNN and FCNN part\n",
    "\n",
    "2. Post-activation for a forward pass\n",
    "\n",
    "3. Loss for a forward pass\n",
    "\n",
    "4. Gradient of the loss function w.r.t. the network parameters\n",
    "\n",
    "5. The updated network parameters after the backwards pass\n",
    "\n",
    "\n",
    "# Notes\n",
    "* The helper classes provide a fair bit, making these tasks more of a LEGO set than anything else :)\n",
    "* Some functions have been borrowed from FCNNs-CNNs-FBPass_Ex1.pdf from the TDT17 Teams page. Other resources are linked in the docstrings of their respective functions. Feel free to use this when solving these tasks.\n",
    "* All tasks that are to be done are marked with `# TODO:`, so feel free to use the search function.\n"
   ]
  },
  {
   "cell_type": "markdown",
   "metadata": {},
   "source": [
    "# Imports and helper functions"
   ]
  },
  {
   "cell_type": "code",
   "execution_count": 1,
   "metadata": {},
   "outputs": [],
   "source": [
    "import numpy as np\n",
    "\n",
    "import matplotlib.pyplot as plt\n",
    "\n",
    "from dataclasses import dataclass\n",
    "\n",
    "from __future__ import annotations\n",
    "from itertools import product\n",
    "\n",
    "\n",
    "class Matrix2D():\n",
    "\n",
    "    def __init__(self, array: np.ndarray):\n",
    "        assert len(array.shape) == 2, \"Input array must be 2D!\"\n",
    "\n",
    "        self.data: np.ndarray = array\n",
    "        self.nrow: int = array.shape[0]\n",
    "        self.ncol: int = array.shape[1] \n",
    "\n",
    "    def __getitem__(self, key):\n",
    "        return self.data[key]\n",
    "\n",
    "    def __setitem__(self, key, val):\n",
    "        self.data[key] = val\n",
    "\n",
    "    @staticmethod\n",
    "    def gaussian(center, ndim, sigma = 1):\n",
    "\n",
    "        xx, yy = np.meshgrid(\n",
    "            np.linspace(0, ndim-1, ndim) - center[0],\n",
    "            np.linspace(0, ndim-1, ndim) - center[1]\n",
    "        )\n",
    "        return Matrix2D(np.exp(-0.5 * (np.square(xx) + np.square(yy)) / np.square(sigma)))\n",
    "        \n",
    "    @staticmethod\n",
    "    def uniform_noise(ndim_matrix: int, intensity: float = 1.0) -> Matrix2D:\n",
    "        return Matrix2D(np.random.uniform(-intensity, intensity, (ndim_matrix, ndim_matrix)))\n",
    "\n",
    "    @staticmethod\n",
    "    def square(ndim_matrix: int, ndim_square: int) -> Matrix2D:\n",
    "        matrix = Matrix2D.uniform_noise(ndim_matrix)\n",
    "\n",
    "        # Select top left corner to draw square from\n",
    "        top_left_row = np.random.randint(low=0, high = ndim_matrix - ndim_square)\n",
    "        top_left_col = np.random.randint(low=0, high = ndim_matrix - ndim_square)\n",
    "\n",
    "        matrix[top_left_row:top_left_row + ndim_square, top_left_col:top_left_col + ndim_square] = 5.0\n",
    "\n",
    "        return matrix\n",
    "\n",
    "    def draw(self, title: str = \"\") -> None:\n",
    "        \"\"\"Display a visualization of the matrix values\n",
    "\n",
    "        See: https://stackoverflow.com/questions/40887753/display-matrix-values-and-colormap\n",
    "        \"\"\"\n",
    "        fig, ax = plt.subplots()\n",
    "\n",
    "        ax.matshow(self.data, cmap=plt.cm.Blues)\n",
    "\n",
    "        if self.nrow == 1:\n",
    "            for col in range(self.ncol):\n",
    "                ax.text(col, 0, f\"{self.data[0, col]:.2f}\", va='center', ha='center')\n",
    "        elif self.ncol == 1:\n",
    "            for row in range(self.nrow):\n",
    "                ax.text(0, row, f\"{self.data[row, 0]:.2f}\", va='center', ha='center')\n",
    "        else:\n",
    "            for col, row in np.ndindex(self.data.shape):\n",
    "                ax.text(col, row, f\"{self.data[row, col]:.2f}\", va='center', ha='center')\n",
    "\n",
    "\n",
    "        ax.set_title(title)\n",
    "\n",
    "    def convolve2D(self, kernel: Matrix2D, bias: float = 0, stride: int = 1) -> Matrix2D:\n",
    "        \"\"\"Convolve the 2D matrix with a 2D kernel plus bias\n",
    "\n",
    "        See http://www.songho.ca/dsp/convolution/convolution2d_example.html for the math\n",
    "        \"\"\"\n",
    "        assert stride != 0, \"Stride cannot be zero!\"\n",
    "\n",
    "        output_width: int = (self.nrow - kernel.nrow) // stride + 1\n",
    "        output_height: int = (self.ncol - kernel.ncol) // stride + 1\n",
    "\n",
    "        output_image = np.zeros((output_height, output_width))\n",
    "\n",
    "        for col, row in product(range(0, output_width, stride), range(0, output_height, stride)):\n",
    "            output_image[row, col] = \\\n",
    "                self.data[row:row+kernel.ncol, col:col+kernel.nrow].flatten() \\\n",
    "                @ kernel.data.flatten() \\\n",
    "                + bias \n",
    "\n",
    "        return Matrix2D(output_image)\n",
    "\n",
    "    def maxpool(self, ndim: int = 1, stride: int = 1):\n",
    "        \"\"\"Dimension reduction using the max of a neigborhood defined by ndim\n",
    "\n",
    "        See https://computersciencewiki.org/index.php/Max-pooling_/_Pooling for the math\n",
    "        and https://datascience.stackexchange.com/questions/11699/backprop-through-max-pooling-layers\n",
    "        for the intuition on why the indices of the maximum values for each pool is needed\n",
    "        \"\"\"\n",
    "        assert stride != 0, \"Stride cannot be zero!\"\n",
    "\n",
    "        output_width: int = (self.nrow - ndim) // stride + 1\n",
    "        output_height: int = (self.ncol - ndim) // stride + 1\n",
    "\n",
    "        output_image = np.zeros((output_height, output_width))\n",
    "        indices = []\n",
    "\n",
    "        for row, col in product(range(output_height), range(output_width)):\n",
    "            rows = slice(row * ndim, (row+1) * ndim)\n",
    "            cols = slice(col * ndim, (col+1) * ndim)\n",
    "            pool = self.data[rows, cols]\n",
    "            \n",
    "            output_image[row, col] = np.max(pool)\n",
    "\n",
    "            index = np.add(np.unravel_index(np.argmax(pool), pool.shape), (row * col, col * row))\n",
    "            indices.append(index)\n",
    "        \n",
    "        return Matrix2D(output_image), indices\n",
    "\n",
    "    def flatten(self):\n",
    "        return Matrix2D(self.data.flatten().reshape(self.nrow*self.ncol, 1))\n",
    "\n",
    "\n",
    "@dataclass\n",
    "class Network():\n",
    "    learning_rate: float = 0.1\n",
    "\n",
    "    kernel: Matrix2D = None\n",
    "    conv_bias: float = 0.0\n",
    "\n",
    "    weights: np.ndarray = np.empty(0)\n",
    "    fcnn_bias: float = 0.0\n",
    "\n",
    "    backward: bool = False\n",
    "    maxpool_indices: np.ndarray = np.empty(0)\n",
    "\n",
    "    def fcnn_forward(self, x):\n",
    "        return self.weights @ x + self.fcnn_bias\n",
    "\n",
    "    def relu(self, value):\n",
    "        \"\"\"ReLU activation\"\"\"\n",
    "        act = value > 0\n",
    "\n",
    "        if self.backward:\n",
    "            return act * 1\n",
    "\n",
    "        return act * abs(value)\n",
    "\n",
    "    def sigmoid(self, value):\n",
    "        \"\"\"Sigmoid activation\"\"\"\n",
    "        act = np.exp(value) / (1 + np.exp(value))\n",
    "\n",
    "        if self.backward:\n",
    "            return act * (1 - act)\n",
    "\n",
    "        return act\n",
    "\n",
    "    def binary_cross_entropy(self, y: float, p: float) -> float:\n",
    "        \"\"\"Binary cross entropy loss calculation\n",
    "\n",
    "        See: https://ml-cheatsheet.readthedocs.io/en/latest/loss_functions.html\n",
    "        \"\"\"\n",
    "        if self.backward:\n",
    "            return (1 - y) / (1 - p) - (y / p)\n",
    "\n",
    "        return  - (y * np.log10(p) + (1 - y) * np.log10(1 - p))\n"
   ]
  },
  {
   "cell_type": "markdown",
   "metadata": {},
   "source": [
    "# Example of data and usage of the Network class"
   ]
  },
  {
   "cell_type": "code",
   "execution_count": 2,
   "metadata": {},
   "outputs": [
    {
     "data": {
      "image/png": "[encoded data removed]",
      "text/plain": [
       "<Figure size 640x480 with 1 Axes>"
      ]
     },
     "metadata": {},
     "output_type": "display_data"
    },
    {
     "data": {
      "image/png": "[encoded data removed]",
      "text/plain": [
       "<Figure size 640x480 with 1 Axes>"
      ]
     },
     "metadata": {},
     "output_type": "display_data"
    }
   ],
   "source": [
    "np.random.seed()\n",
    "\n",
    "# Create Matrix2D for class 0 and 1\n",
    "ndim = 6\n",
    "\n",
    "X0 = Matrix2D.uniform_noise(ndim)\n",
    "X1 = Matrix2D.square(ndim, 3)\n",
    "X0.draw(\"Class 0: Uniform noise\")\n",
    "X1.draw(\"Class 1: Uniform noise with square\")\n"
   ]
  },
  {
   "cell_type": "markdown",
   "metadata": {},
   "source": [
    "# Forward pass\n",
    "The cells below provide an annotated view of the contents of the forward() function of the Network class\n",
    "\n",
    "We start off by initializing the network parameters. This includes:\n",
    "1. The 3x3 kernel, initialized with i.i.d. ~ Uniform(-1, 1) elements\n",
    "2. The convolution bias, initialized as ~ Uniform(0, 1)\n",
    "3. The FCNN weights, initialized with i.i.d. ~ Uniform(-1, 1) elements\n",
    "4. The FCNN bias, initialized as ~ Uniform(0, 1)\n",
    "These are all learnable parameters in the network.\n",
    "\n",
    "A class 1 example image is also generated for use in the forward and backward pass example."
   ]
  },
  {
   "cell_type": "code",
   "execution_count": 3,
   "metadata": {},
   "outputs": [],
   "source": [
    "kernel = Matrix2D(np.random.uniform(low=-1, high=1, size=(3, 3)))\n",
    "conv_bias = np.random.uniform()\n",
    "\n",
    "fcnn_weights = np.random.uniform(low=-1, high=1, size=(1, 4))\n",
    "fcnn_bias = np.random.uniform()\n",
    "\n",
    "nn = Network(learning_rate=0.01, kernel=kernel, conv_bias=conv_bias, weights=fcnn_weights, fcnn_bias=fcnn_bias)\n",
    "\n",
    "# Use class 1 as an example\n",
    "y = 1\n",
    "X = Matrix2D.square(ndim, 3)"
   ]
  },
  {
   "cell_type": "markdown",
   "metadata": {},
   "source": [
    "#### Convolution\n",
    "Since the kernel is initialized to random values, trying to assign any meaning to the output of the convolution layer at this stage does not make sense. It is instead better to understand how the values in the convolved output image are generated. See [this gif to get a visualization of the convolution operation](https://theano-pymc.readthedocs.io/en/latest/_images/numerical_no_padding_no_strides.gif)."
   ]
  },
  {
   "cell_type": "code",
   "execution_count": 4,
   "metadata": {},
   "outputs": [],
   "source": [
    "# TODO"
   ]
  },
  {
   "cell_type": "markdown",
   "metadata": {},
   "source": [
    "#### ReLU \n",
    "The ReLU function applies max(0, value) element-wise which adds a nonlinearity to the network. [[1]](http://www.cs.toronto.edu/~fritz/absps/imagenet.pdf) lists some of the benefits of having a ReLU activation, mainly sparsity and fast training times. While neither of these are problematic for such a small-scale problem as here, it yields an extra step to discuss and perform calculations on :)"
   ]
  },
  {
   "cell_type": "code",
   "execution_count": 5,
   "metadata": {},
   "outputs": [],
   "source": [
    "# TODO"
   ]
  },
  {
   "cell_type": "markdown",
   "metadata": {},
   "source": [
    "#### Maxpool\n",
    "Our binary classifier needs a fully-connected neural network between the augmented input matrix and the output. However, due to the sparsity introduced by the ReLU operation, and for scalability concerns, it is reasonable to decimate the augmented image to a lower dimension, and this is what maxpool does. Mathematically, it is similar to convolution in that a sliding window (kernel) is applied to the image. However, instead of weighing the image elements with the kernel data, the maximum image value inside a given window is extracted to the output of the maxpool operation. Again, [I refer to an animation that visualizes this](https://thumbs.gfycat.com/FirstMediumDalmatian-size_restricted.gif).\n",
    "\n",
    "Instead of requiring 16 weights in our FCNN, we now only need 4 - which is good - from both the perspective of parsimonity and computational demand (again, the latter is not *really* a concern for us.)"
   ]
  },
  {
   "cell_type": "code",
   "execution_count": 6,
   "metadata": {},
   "outputs": [],
   "source": [
    "# TODO"
   ]
  },
  {
   "cell_type": "markdown",
   "metadata": {},
   "source": [
    "#### FCNN\n",
    "\n",
    "The FCNN consists of four weights, one for each cell of the maxpool output. In addition, a bias term is introduced to avoid being restricted to only being able to model functions where f(0) = 0\n",
    "\n",
    "The pre-activation value is calculated by the dot-product between the weights and the input vector, plus bias.\n",
    "\n",
    "Since the purpose of the network is to discriminate between two classes, a sigmoid activation is applied to the input. This ensures that the output of the network is in the range (0, 1), where values closer to 0 corresponds to the network modelling a given input as class 0, and vice versa.\n",
    "\n",
    "To assess the performance of the network for a given (known) input, the binary cross-entropy / log-loss function is used, since the output of the sigmoid function may be interpreted as a probability. Log-loss in the binary case is a sum of two parts, each corresponding the the probability of misclassifying that class. Thus, a perfect predictor would have a log-loss of zero."
   ]
  },
  {
   "cell_type": "code",
   "execution_count": 7,
   "metadata": {},
   "outputs": [],
   "source": [
    "# TODO"
   ]
  },
  {
   "cell_type": "markdown",
   "metadata": {},
   "source": [
    "#### Forward pass done - now what?\n",
    "\n",
    "Through the forward pass, we have accumulated intermediate values, both in the form of scalars (FCNN pre- and post activation, log-loss) and matrices (convolved input, maxpool). The point of doing this is to set up for the *backward pass*, which ultimately leads to a way for us to update the network parameters in such a way as to increase the immediate performance of the network.\n",
    " "
   ]
  },
  {
   "cell_type": "markdown",
   "metadata": {},
   "source": [
    "# Backward pass\n",
    "\n",
    "The point of the backward pass is to compute the derivative (gradient) of the loss function with respect to the trainable parameters in the network. The intuition for this comes from the fact that, if we are able to tune the network parameters in such a way as to decrease numerical value of the loss function, then we would obtain network parameters that yield \"better performance\" (as modelled by the loss function).\n",
    "\n",
    "NOTE: The notation in the math equations match the naming of the intermediate values of the forward pass. Scroll back and forth if you lose track!"
   ]
  },
  {
   "cell_type": "code",
   "execution_count": 8,
   "metadata": {},
   "outputs": [],
   "source": [
    "# Implementation detail, to ensure that the numerical derivatives of the\n",
    "# functions in the network are used\n",
    "nn.backward = True"
   ]
  },
  {
   "cell_type": "markdown",
   "metadata": {},
   "source": [
    "#### FCNN\n",
    "For the FCNN layer, we need to calculate the numerical derivative of the loss function w.r.t the weights and the bias of the FCNN, which boils down to smart (or straight-forward) applications of the chain rule.\n",
    "\n",
    "For the weights:\n",
    "\n",
    "$$\n",
    "\\frac{\\partial L}{\\partial w} = \\frac{\\partial L}{\\partial z_4} \\frac{\\partial z_4}{\\partial w}\n",
    "$$\n",
    "\n",
    "and the bias\n",
    "\n",
    "$$\n",
    "\\frac{\\partial L}{\\partial b} = \\frac{\\partial L}{\\partial z_4} \\frac{\\partial z_4}{\\partial b}\n",
    "$$\n",
    "\n",
    "Noting that \n",
    "\n",
    "$$\n",
    "\\frac{\\partial L}{\\partial z_4}  = \\frac{\\partial L}{\\partial a_4} \\frac{\\partial a_4}{\\partial z_4} = \\frac{\\partial L}{\\partial a_4} \\sigma'(z_4) := \\delta\n",
    "$$\n",
    "\n",
    "where $\\frac{\\partial L}{\\partial a_4}$ is the derivative of the loss function w.r.t. the input, and that $\\frac{\\partial z_4}{\\partial b} = 1$\n",
    "\n",
    "We get \n",
    "\n",
    "$$\n",
    "\\frac{\\partial L}{\\partial w} = \\delta \\cdot a_3, \\qquad \\frac{\\partial L}{\\partial b} = \\delta\n",
    "$$\n",
    "\n",
    "\n",
    "NOTE: The \"delta\" defined in the code from this point on is the delta as defined here, but propagated through the layers of the network, starting at the end."
   ]
  },
  {
   "cell_type": "code",
   "execution_count": 9,
   "metadata": {},
   "outputs": [],
   "source": [
    "# TODO"
   ]
  },
  {
   "cell_type": "markdown",
   "metadata": {},
   "source": [
    "#### Flattening and maxpool\n",
    "The flattening operation can be reversed without any calculations, as it is a simple reshape of the input vector to the FCNN. The output below shows the reshaped 2x2 derivative."
   ]
  },
  {
   "cell_type": "code",
   "execution_count": 10,
   "metadata": {},
   "outputs": [],
   "source": [
    "# TODO"
   ]
  },
  {
   "cell_type": "markdown",
   "metadata": {},
   "source": [
    "#### Maxpool\n",
    "Calculating the gradients through the maxpool operation is a bit more involved. It hinges on the fact that, since all non-max values for each window are discarded entirely, the max values are the only ones which we need to calculate the gradient for. That is why the maxpool function borrowed from the published example stores the indices of the max values, so we can insert the gradients from the decimated matrix (above) into a matrix with the same size as the original convolved input. The non-max indices will remain zero, but this is again not a problem since these gradients do not affect the loss."
   ]
  },
  {
   "cell_type": "code",
   "execution_count": 11,
   "metadata": {},
   "outputs": [],
   "source": [
    "# TODO"
   ]
  },
  {
   "cell_type": "markdown",
   "metadata": {},
   "source": [
    "#### ReLU\n",
    "The gradients propagate through the ReLU activation, which luckily is much simpler than the maxpool, since ReLU is either constant or linear. Mathematically, the gradient at this layer is simply (again using the chain rule)\n",
    "\n",
    "$$\n",
    "\\frac{\\partial L}{\\partial z_1} = \\frac{\\partial L}{\\partial a_1} \\frac{\\partial a_1}{\\partial z_1} = \\frac{\\partial L}{\\partial a_1} \\cdot \\text{ReLU}'(z_1)\n",
    "$$"
   ]
  },
  {
   "cell_type": "code",
   "execution_count": 12,
   "metadata": {},
   "outputs": [],
   "source": [
    "# TODO"
   ]
  },
  {
   "cell_type": "markdown",
   "metadata": {},
   "source": [
    "#### Convolution\n",
    "\n",
    "Calculating the derivative of the loss function w.r.t. the convolution kernel does not seem very easy at first, however, by utilizing the fact that convolution can be used to express derivatives, we may use the result\n",
    "\n",
    "$$\n",
    "\\frac{\\partial L}{\\partial K} = X * \\frac{\\partial L}{\\partial z_1}  \n",
    "$$"
   ]
  },
  {
   "cell_type": "code",
   "execution_count": 13,
   "metadata": {},
   "outputs": [],
   "source": [
    "# TODO"
   ]
  },
  {
   "cell_type": "markdown",
   "metadata": {},
   "source": [
    "#### Updating network parameters\n",
    "As mentioned previously, the point of going through all these steps is to update the parameters of the network in such a manner as to decrease the numerical value of the loss function. We have now calculated gradients of the loss function w.r.t. the parameters in the network, and since the gradient is a vector pointing in the steepest (positive) direction at a given point on the manifold spanned by the network parameters, we may negate the gradient to find the *direction of steepest descent*, i.e. do a step of gradient descent. The learning rate, i.e. how far in the direction of steepest descent we perturb the network parameters, is a tunable hyperparameter. Too small, and the learning process takes an infeasibly long time, but too high and the process may overshoot minima and become unstable.\n",
    "\n",
    "Here it is set arbitrary since \"it just worked\" :)"
   ]
  },
  {
   "cell_type": "code",
   "execution_count": 14,
   "metadata": {},
   "outputs": [],
   "source": [
    "# Update weights and biase for convolution\n",
    "learning_rate = 0.01\n",
    "\n",
    "# TODO"
   ]
  },
  {
   "cell_type": "code",
   "execution_count": null,
   "metadata": {},
   "outputs": [],
   "source": []
  }
 ],
 "metadata": {
  "kernelspec": {
   "display_name": "Python 3.9.6 ('ttk4250')",
   "language": "python",
   "name": "python3"
  },
  "language_info": {
   "codemirror_mode": {
    "name": "ipython",
    "version": 3
   },
   "file_extension": ".py",
   "mimetype": "text/x-python",
   "name": "python",
   "nbconvert_exporter": "python",
   "pygments_lexer": "ipython3",
   "version": "3.9.6"
  },
  "vscode": {
   "interpreter": {
    "hash": "4c7c765b3ccbbe6d313574b57bbdf9e7ed7b489ccc232ed6d3ed4e9f42010fd4"
   }
  }
 },
 "nbformat": 4,
 "nbformat_minor": 4
}
