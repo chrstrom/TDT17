{
 "cells": [
  {
   "cell_type": "markdown",
   "metadata": {},
   "source": [
    "# Problem description from Frank\n",
    "One task that you can already start working on (since this was part of our first meeting)\n",
    "is a numerical example of one complete forward backward learning cycle through a very simple\n",
    "classification network consisting of a feature extraction/learning part (CNN with conv. and\n",
    "pooling layers) and a classification part (FCNN with at least one fully-connected/dens layer)\n",
    "\n",
    "I choose to break this down into the following subtasks\n",
    "\n",
    "\n",
    "## 1. Create simple FCNN module\n",
    "Inspiration from micrograd can be taken.\n",
    "\n",
    "The FCNN module can be built as follows:\n",
    "1. Class for a single neuron, with weights and a bias. The dunder-call for this should return the activation of the weighted sum of inputs. The activation function should be specifiable from a discrete set of types.\n",
    "2. Class for a layer. A layer should have a specifiable amount of neurons, and the dunder-call should be a call to each neuron, all using the same input.\n",
    "\n",
    "\n",
    "## 2. Create CNN w. conv module\n",
    "## 3. Connect CNN->FCNN\n",
    "## 4. Numerical example of forward pass\n",
    "## 5. Numerical example of backward pass\n"
   ]
  },
  {
   "cell_type": "code",
   "execution_count": 3,
   "metadata": {},
   "outputs": [],
   "source": [
    "# Imports here\n",
    "\n",
    "import numpy as np"
   ]
  },
  {
   "cell_type": "code",
   "execution_count": 32,
   "metadata": {},
   "outputs": [],
   "source": [
    "\n",
    "class Neuron():\n",
    "    \n",
    "    def __init__(self, n_inputs, f=None):\n",
    "        \"\"\"Create a neuron with n inputs.\n",
    "        \n",
    "        Optionally specify an activation function.\n",
    "        If no activation function is set, a default one\n",
    "        will be set. Right now that is f(x) = x\n",
    "        \"\"\"\n",
    "        self.w = np.random.uniform(-1, 1, n_inputs)\n",
    "        self.b = np.random.uniform()\n",
    "        \n",
    "        if f is None:\n",
    "            self.f = lambda x : x # Linear\n",
    "            #self.f = lambda x : max(x, 0) #ReLU\n",
    "        else:\n",
    "            self.f = f\n",
    "    \n",
    "    def z(self, x):\n",
    "        \"\"\"Calculate the pre-activation neuron output\"\"\"\n",
    "        return x@self.w.T + self.b\n",
    "    \n",
    "    def a(self, x):\n",
    "        \"\"\"Calculate the post-activation neuron output\"\"\"\n",
    "        return self.f(self.z(x))\n",
    "\n",
    "    \n",
    "# Test\n",
    "#N = 3\n",
    "#n = Neuron(N)\n",
    "#x = np.random.rand(N)\n",
    "#print(n.a(x))\n"
   ]
  },
  {
   "cell_type": "code",
   "execution_count": null,
   "metadata": {},
   "outputs": [],
   "source": [
    "class Layer():\n",
    "    \n",
    "    def __init__(self, n_neurons, n_inputs):\n",
    "        \"\"\"Create a layer of n_neurons\n",
    "        \n",
    "        The amount of inputs to the neurons will also need to be specified.\n",
    "        \"\"\"\n",
    "        self.neurons = [Neuron(n_inputs) for _ in range(n_neurons)]\n",
    "        \n",
    "    def out(self, x):\n",
    "        \"\"\"Return the vector of outputs of the layer\"\"\"\n",
    "        return [n.out(x) for n in self.neurons]\n",
    "        \n",
    "    \n",
    "        \n",
    "    "
   ]
  },
  {
   "cell_type": "code",
   "execution_count": 34,
   "metadata": {},
   "outputs": [],
   "source": [
    "class FCNN():\n",
    "    \n",
    "\n",
    "    def __init__(self, n_inputs, n_outputs):\n",
    "        \"\"\"Create a fully-connected network of n layers\n",
    "        \"\"\"\n",
    "        sizes = [n_inputs] + n_outputs\n",
    "        self.layers = [Layer(sizes[i], sizes[i+1]) for i in range(len(n_outputs))]\n",
    "        \n",
    "        \n",
    "    def out(self, x):\n",
    "        for layer in self.layers:\n",
    "            x = layer(x)\n",
    "        return x\n"
   ]
  },
  {
   "cell_type": "code",
   "execution_count": null,
   "metadata": {},
   "outputs": [],
   "source": []
  }
 ],
 "metadata": {
  "kernelspec": {
   "display_name": "Python 3",
   "language": "python",
   "name": "python3"
  },
  "language_info": {
   "codemirror_mode": {
    "name": "ipython",
    "version": 3
   },
   "file_extension": ".py",
   "mimetype": "text/x-python",
   "name": "python",
   "nbconvert_exporter": "python",
   "pygments_lexer": "ipython3",
   "version": "3.7.6"
  }
 },
 "nbformat": 4,
 "nbformat_minor": 4
}
