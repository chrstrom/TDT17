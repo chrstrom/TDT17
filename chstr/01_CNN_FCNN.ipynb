{
 "cells": [
  {
   "cell_type": "markdown",
   "metadata": {},
   "source": [
    "# TODO:\n",
    "1. Split forward and backward pass into multiple cells and pretty print\n",
    "2. Unkok\n",
    "3. Add math explanations to forward and backward pass\n",
    "4. Draw the network architecture in drawio\n",
    "5. Make data generator\n",
    "6. Do multiple forward and backward passes automatically\n",
    "7. Save trained network parameters as an introductory example\n",
    "\n",
    "\n",
    "# Problem formulation\n",
    "The problem at hand is a binary classification task between two tetris pieces, the \"I\" and the \"O\". These pieces were chosen since they neatly represent \"1\" and \"0\" graphically (which will be their embedding in this problem). To classify images with \"I\" or \"O\" in them, images in the form of 4x4x1 matrices are fed to a CNN+FCNN, the performance of which is determined with binary cross-entropy and trained using stochastic gradient descent.\n",
    "\n",
    "# Given\n",
    "1. The network architecture  \n",
    "\n",
    "| **Layer**   | **Input dim** | **Output dim** | **Other**                                                  |\n",
    "|-------------|---------------|----------------|------------------------------------------------------------|\n",
    "| Input       | 4x4           | 4x4            | \"I\" or \"O\" in input                                        |\n",
    "| 2D convolve | 4x4           | 3x3            | Kernel: 2x2 with stride 1 and no padding. Activation: ReLU |\n",
    "| Max pool    | 3x3           | 2x2            | Kernel: 2x2 with stride 1 and no padding.                  |\n",
    "| Flatten     | 2x2           | 4x1            |                                                            |\n",
    "| FCNN        | 4x1           | 1              | Activation: Sigmoid                                        |\n",
    "\n",
    "which has a total of 10 parameters, decomposed into 2 biases from the CNN and FCNN, 4 kernel weights in the CNN and 4 weights in the FCNN.\n",
    "\n",
    "2. An input matrix *X* and a label *y*, where *y* = 0 when *X* contains \"O\" and *y* = 1 when *X* contains \"I\"\n",
    "\n",
    "# Find\n",
    "1. The intermediate values in the network\n",
    "2. Post-activation for a forward pass\n",
    "3. Loss for a forward pass\n",
    "3. Gradient of the loss function w.r.t. the network parameters\n"
   ]
  },
  {
   "cell_type": "markdown",
   "metadata": {},
   "source": [
    "# Imports and helper functions"
   ]
  },
  {
   "cell_type": "code",
   "execution_count": 627,
   "metadata": {},
   "outputs": [],
   "source": [
    "import numpy as np\n",
    "\n",
    "import matplotlib.pyplot as plt\n",
    "\n",
    "from dataclasses import dataclass\n",
    "\n",
    "from __future__ import annotations\n",
    "from itertools import product\n",
    "\n",
    "\n",
    "class Matrix2D():\n",
    "\n",
    "    def __init__(self, array: np.ndarray):\n",
    "        assert len(array.shape) == 2, \"Input array must be 2D!\"\n",
    "\n",
    "        self.data: np.ndarray = array\n",
    "        self.nrow: int = array.shape[0]\n",
    "        self.ncol: int = array.shape[1] \n",
    "\n",
    "    def __getitem__(self, key):\n",
    "        return self.data[key]\n",
    "\n",
    "    def __setitem__(self, key, val):\n",
    "        self.data[key] = val\n",
    "\n",
    "    def __gt__(self, other):\n",
    "        return self.data > other\n",
    "\n",
    "    \n",
    "    def __lt__(self, other):\n",
    "        return self.data < other\n",
    "\n",
    "\n",
    "    def draw(self, title: str = \"\") -> None:\n",
    "        \"\"\"Display a visualization of the matrix values\n",
    "\n",
    "        See: https://stackoverflow.com/questions/40887753/display-matrix-values-and-colormap\n",
    "        \"\"\"\n",
    "        fig, ax = plt.subplots()\n",
    "\n",
    "        ax.matshow(self.data, cmap=plt.cm.Blues)\n",
    "\n",
    "        if self.nrow == 1:\n",
    "            for col in range(self.ncol):\n",
    "                ax.text(col, 0, f\"{self.data[0, col]:.2f}\", va='center', ha='center')\n",
    "        elif self.ncol == 1:\n",
    "            for row in range(self.nrow):\n",
    "                ax.text(0, row, f\"{self.data[row, 0]:.2f}\", va='center', ha='center')\n",
    "        else:\n",
    "            for col, row in np.ndindex(self.data.shape):\n",
    "                ax.text(col, row, f\"{self.data[row, col]:.2f}\", va='center', ha='center')\n",
    "\n",
    "\n",
    "        ax.set_title(title)\n",
    "\n",
    "\n",
    "    # TODO: Fix padding\n",
    "    def convolve2D(self, kernel: Matrix2D, bias: float = 0, stride: int = 1) -> Matrix2D:\n",
    "        \"\"\"Convolve the 2D matrix with a 2D kernel plus bias\n",
    "\n",
    "        See http://www.songho.ca/dsp/convolution/convolution2d_example.html for the math\n",
    "        \"\"\"\n",
    "        assert stride != 0, \"Stride cannot be zero!\"\n",
    "\n",
    "        output_width: int = (self.nrow - kernel.nrow) // stride + 1\n",
    "        output_height: int = (self.ncol - kernel.ncol) // stride + 1\n",
    "\n",
    "        output_image = np.zeros((output_height, output_width))\n",
    "\n",
    "        for col, row in product(range(0, output_width, stride), range(0, output_height, stride)):\n",
    "            output_image[row, col] = \\\n",
    "                self.data[row:row+kernel.ncol, col:col+kernel.nrow].flatten() \\\n",
    "                @ kernel.data.flatten() \\\n",
    "                + bias \n",
    "\n",
    "        return Matrix2D(output_image)\n",
    "\n",
    "    def maxpool(self, ndim: int = 1, stride: int = 1):\n",
    "        \"\"\"Dimension reduction using the max of a neigborhood defined by ndim\n",
    "\n",
    "        See https://computersciencewiki.org/index.php/Max-pooling_/_Pooling for the math\n",
    "        and https://datascience.stackexchange.com/questions/11699/backprop-through-max-pooling-layers\n",
    "        for the intuition on why the indices of the maximum values for each pool is needed\n",
    "        \"\"\"\n",
    "        output_width: int = (self.nrow - ndim) // stride + 1\n",
    "        output_height: int = (self.ncol - ndim) // stride + 1\n",
    "\n",
    "        output_image = np.zeros((output_height, output_width))\n",
    "        indices = []\n",
    "\n",
    "        for row, col in product(range(output_width), range(output_height)):\n",
    "            rows = slice(row * ndim, (row+1) * ndim)\n",
    "            cols = slice(col * ndim, (col+1) * ndim)\n",
    "            pool = self.data[rows, cols]\n",
    "\n",
    "            output_image[row, col] = np.max(pool)\n",
    "\n",
    "            index = np.add(np.unravel_index(np.argmax(pool), pool.shape), (row * col, col * row))\n",
    "            indices.append(index)\n",
    "        \n",
    "        return Matrix2D(output_image), indices\n",
    "\n",
    "    def flatten(self):\n",
    "        return Matrix2D(self.data.flatten().reshape(self.nrow*self.ncol, 1))\n",
    "\n",
    "\n",
    "\n",
    "# TODO: Make compatible with arrays and matrices?\n",
    "# TODO: Alternatively remove class and just pass bool\n",
    "@dataclass\n",
    "class Network():\n",
    "    weights: np.ndarray = np.empty(0)\n",
    "    bias: float = 0.0\n",
    "    backward: bool = False\n",
    "\n",
    "    def forward(self, x):\n",
    "        return self.weights @ x + self.bias\n",
    "\n",
    "    def relu(self, value):\n",
    "        \"\"\"ReLU activation\"\"\"\n",
    "        act = value > 0\n",
    "\n",
    "        if self.backward:\n",
    "            return act * 1\n",
    "\n",
    "        return act * value\n",
    "\n",
    "    def sigmoid(self, value):\n",
    "        \"\"\"Sigmoid activation\"\"\"\n",
    "        act = np.exp(value) / (1 + np.exp(value))\n",
    "\n",
    "        if self.backward:\n",
    "            return act * (1 - act)\n",
    "\n",
    "        return act\n",
    "\n",
    "    def binary_cross_entropy(self, y: float, p: float) -> float:\n",
    "        \"\"\"Binary cross entropy loss calculation\n",
    "\n",
    "        See: https://ml-cheatsheet.readthedocs.io/en/latest/loss_functions.html\n",
    "        \"\"\"\n",
    "        if self.backward:\n",
    "            return (1 - y) / (1 - p) - (y / p)\n",
    "\n",
    "        return  - (y * np.log10(p) + (1 - y) * np.log10(1 - p))\n",
    "\n",
    "\n",
    "\n",
    "#Data \n",
    "# K = Matrix2D(np.array(([[1, 1], [1, 1]])))\n",
    "# I = Matrix2D(np.zeros((4, 4)))\n",
    "# I[:4, 2] = 1\n",
    "# I.draw(\"Example image of I block\")\n",
    "# IC = I.convolve2D(K)\n",
    "# IC.draw(\"Convolved I block\")\n",
    "\n",
    "\n",
    "# IM = IC.maxpool(2, 1)\n",
    "# IM.draw(\"Maxpooled I block\")\n",
    "\n",
    "\n",
    "# O = Matrix2D(np.zeros((4, 4)))\n",
    "# O[1:3, 1:3] = 1\n",
    "# O.draw(\"Example image of O block\")\n",
    "# OM = O.maxpool(2, 2)\n",
    "# OM.draw(\"Maxpooled O block\")\n",
    "\n"
   ]
  },
  {
   "cell_type": "markdown",
   "metadata": {},
   "source": [
    "# Initialize parameters"
   ]
  },
  {
   "cell_type": "code",
   "execution_count": 628,
   "metadata": {},
   "outputs": [],
   "source": [
    "\n",
    "# Learned parameters\n",
    "K = Matrix2D(np.array(([[1, -1], [-1, 1]]),  dtype=np.float64))\n",
    "w = np.random.uniform(low=-1, high=1, size=(1, 4))\n",
    "\n",
    "b1 = 1.0\n",
    "b2 = 1.0\n",
    "\n",
    "nn = Network(weights=w, bias = b2)\n"
   ]
  },
  {
   "cell_type": "markdown",
   "metadata": {},
   "source": [
    "# Data"
   ]
  },
  {
   "cell_type": "code",
   "execution_count": 629,
   "metadata": {},
   "outputs": [
    {
     "name": "stdout",
     "output_type": "stream",
     "text": [
      "y = 1\n"
     ]
    },
    {
     "data": {
      "image/png": "[encoded data removed]",
      "text/plain": [
       "<Figure size 640x480 with 1 Axes>"
      ]
     },
     "metadata": {},
     "output_type": "display_data"
    }
   ],
   "source": [
    "# DATA\n",
    "X = Matrix2D(np.zeros((4, 4)))\n",
    "X[:4, 2] = 1\n",
    "y = 1 #\"O\" = 0 and \"I\" = 1\n",
    "print(f\"y = {y}\")\n",
    "X.draw(\"Image of I block\")\n",
    "\n",
    "# X = Matrix2D(np.zeros((4, 4)))\n",
    "# X[1:3, 1:3] = 1\n",
    "# y = 0\n",
    "# X.draw(\"Example image of O block\")"
   ]
  },
  {
   "cell_type": "markdown",
   "metadata": {},
   "source": [
    "# Forward pass"
   ]
  },
  {
   "cell_type": "code",
   "execution_count": 630,
   "metadata": {},
   "outputs": [
    {
     "name": "stdout",
     "output_type": "stream",
     "text": [
      "CNN: [ 1. -1. -1.  1.], 1.0. FCNN: [-0.094536   -0.30624018  0.19630665  0.21087297], 1.0\n",
      "z4 = nn.forward(a3) = 1.006403438661735 \n",
      "a4 = nn.sigmoid(z4) = 0.7323157067806868\n",
      "loss = nn.binary_cross_entropy(y, a4) = 0.13530165097167343\n"
     ]
    },
    {
     "data": {
      "image/png": "[encoded data removed]",
      "text/plain": [
       "<Figure size 640x480 with 1 Axes>"
      ]
     },
     "metadata": {},
     "output_type": "display_data"
    },
    {
     "data": {
      "image/png": "[encoded data removed]",
      "text/plain": [
       "<Figure size 640x480 with 1 Axes>"
      ]
     },
     "metadata": {},
     "output_type": "display_data"
    },
    {
     "data": {
      "image/png": "[encoded data removed]",
      "text/plain": [
       "<Figure size 640x480 with 1 Axes>"
      ]
     },
     "metadata": {},
     "output_type": "display_data"
    },
    {
     "data": {
      "image/png": "[encoded data removed]",
      "text/plain": [
       "<Figure size 640x480 with 1 Axes>"
      ]
     },
     "metadata": {},
     "output_type": "display_data"
    }
   ],
   "source": [
    "# z: pre-activation variable\n",
    "# a: post-activation variable\n",
    "print(f\"CNN: {K.data.flatten()}, {b1}. FCNN: {nn.weights[0]}, {nn.bias}\")\n",
    "\n",
    "nn.backward = False\n",
    "\n",
    "z1 = X.convolve2D(K, bias=b1, stride=1)\n",
    "z1.draw(\"z1: I.convolve2D(K, bias=b1, stride=1)\")\n",
    "\n",
    "a1 = Matrix2D(nn.relu(z1.data))\n",
    "a1.draw(\"a1 = ReLU(z1)\")\n",
    "\n",
    "a2, maxpool_indices = a1.maxpool(ndim=2, stride=1)\n",
    "a2.draw(\"z2: a1.maxpool(ndim=2, stride=1)\")\n",
    "\n",
    "a3: Matrix2D = a2.flatten()\n",
    "a3.draw(\"a3: a2.flatten()\")\n",
    "\n",
    "z4: float = nn.forward(a3.data)[0, 0]\n",
    "print(f\"z4 = nn.forward(a3) = {z4} \")\n",
    "\n",
    "a4 = nn.sigmoid(z4)\n",
    "print(f\"a4 = nn.sigmoid(z4) = {a4}\")\n",
    "\n",
    "l = nn.binary_cross_entropy(y, a4)\n",
    "print(f\"loss = nn.binary_cross_entropy(y, a4) = {l}\")\n"
   ]
  },
  {
   "cell_type": "markdown",
   "metadata": {},
   "source": [
    "# Backward pass"
   ]
  },
  {
   "cell_type": "code",
   "execution_count": 631,
   "metadata": {},
   "outputs": [],
   "source": [
    "learning_rate = 0.2\n",
    "\n",
    "nn.backward = True # Make sure to set the network to backward pass now\n",
    "\n",
    "# Chain rule backwards in the network\n",
    "delta = nn.binary_cross_entropy(y, a4) * nn.sigmoid(z4)\n",
    "nn.bias -= learning_rate * delta # Update bias for the FCNN\n",
    "\n",
    "delta = delta * a3.data \n",
    "nn.weights -= learning_rate * delta.T # Update weights for the FCNN\n",
    "\n",
    "\n",
    "# Undo the flattening operation\n",
    "#delta = delta.reshape(a2.data.shape)\n",
    "\n",
    "# Calculate the derivative through the maxpool operation\n",
    "delta_temp = np.zeros_like(a1.data)\n",
    "for max_indices, gradient in zip(maxpool_indices, delta):\n",
    "    delta_temp[max_indices] = gradient\n",
    "delta = delta_temp\n",
    "\n",
    "# Derivative through the ReLU activation\n",
    "#Matrix2D(delta).draw()\n",
    "delta = nn.relu(delta) * delta\n",
    "#Matrix2D(delta).draw()\n",
    "\n",
    "# Derivative through the convolution operation\n",
    "grad_b1 = delta.sum()\n",
    "grad_kernel = X.convolve2D(Matrix2D(delta))\n",
    "\n",
    "\n",
    "# Update weights and biase for convolution\n",
    "K.data -= learning_rate * grad_kernel.data\n",
    "b1 -= learning_rate * grad_b1\n",
    "\n",
    "\n"
   ]
  }
 ],
 "metadata": {
  "kernelspec": {
   "display_name": "Python 3.10.7 64-bit (microsoft store)",
   "language": "python",
   "name": "python3"
  },
  "language_info": {
   "codemirror_mode": {
    "name": "ipython",
    "version": 3
   },
   "file_extension": ".py",
   "mimetype": "text/x-python",
   "name": "python",
   "nbconvert_exporter": "python",
   "pygments_lexer": "ipython3",
   "version": "3.10.7"
  },
  "vscode": {
   "interpreter": {
    "hash": "aa82987a71ca0339a52998cd22613b0c002bda8349fa32a0cb67ceec3936a2bf"
   }
  }
 },
 "nbformat": 4,
 "nbformat_minor": 4
}
